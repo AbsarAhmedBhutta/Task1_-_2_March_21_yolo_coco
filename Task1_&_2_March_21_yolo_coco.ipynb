{
 "cells": [
  {
   "cell_type": "code",
   "execution_count": 51,
   "id": "5e3a565d",
   "metadata": {},
   "outputs": [],
   "source": [
    "import cv2\n",
    "import os\n",
    "import matplotlib.pyplot as plt\n",
    "from PIL import Image,ImageDraw,ImageEnhance\n",
    "import numpy as np"
   ]
  },
  {
   "cell_type": "markdown",
   "id": "9cca293b",
   "metadata": {},
   "source": [
    "# Task1- Convert VGG Via Annotation file into Yolo Format\n",
    "\n"
   ]
  },
  {
   "cell_type": "code",
   "execution_count": 52,
   "id": "23c4b814",
   "metadata": {},
   "outputs": [],
   "source": [
    "class_names = ['cat', 'dog']\n",
    "\n",
    "\n",
    "with open(r'cat_dog_annotations.json', 'r') as f:\n",
    "    data = json.load(f)\n",
    "    \n",
    "if not os.path.exists('Yolo_Format2'):\n",
    "    os.makedirs('Yolo_Format2')\n",
    "for img_key, img_values in data['_via_img_metadata'].items():\n",
    "    filename = img_values['filename']\n",
    "    img_filename = img_values['filename']\n",
    "    image = cv2.imread(filename)\n",
    "    img_height, img_width = image.shape[:2]\n",
    "\n",
    "    with open(os.path.join('Yolo_Format', os.path.splitext(img_filename)[0] + '.txt'), 'w') as f:\n",
    "        for obj in img_values['regions']:\n",
    "            class_label = list(obj['region_attributes']['class'])[0]\n",
    "            bbox = obj['shape_attributes']\n",
    "            x_center = (bbox['x'] + bbox['width'] / 2) / img_width\n",
    "            y_center = (bbox['y'] + bbox['height'] / 2) / img_height\n",
    "            width = bbox['width'] / img_width\n",
    "            height = bbox['height'] / img_height\n",
    "            class_index = class_names.index(class_label)\n",
    "            f.write(f\"{class_index} {x_center} {y_center} {width} {height}\\n\")\n",
    "            \n",
    "\n",
    "        "
   ]
  },
  {
   "cell_type": "markdown",
   "id": "ff1261f8",
   "metadata": {},
   "source": [
    "# Task2- Convert VGG Via Annotation file into COCO Format\n",
    "\n"
   ]
  },
  {
   "cell_type": "code",
   "execution_count": 54,
   "id": "d479c84c",
   "metadata": {},
   "outputs": [
    {
     "data": {
      "text/plain": [
       "'C:\\\\Users\\\\Absar'"
      ]
     },
     "execution_count": 54,
     "metadata": {},
     "output_type": "execute_result"
    }
   ],
   "source": [
    "import os\n",
    "import json\n",
    "os.chdir(r'C:\\Users\\Absar')\n",
    "os.getcwd()"
   ]
  },
  {
   "cell_type": "code",
   "execution_count": 55,
   "id": "f870dd4d",
   "metadata": {},
   "outputs": [],
   "source": [
    "with open('cat_dog_annotations.json') as f:\n",
    "    data = json.load(f)"
   ]
  },
  {
   "cell_type": "code",
   "execution_count": 56,
   "id": "c0282ff7",
   "metadata": {},
   "outputs": [
    {
     "data": {
      "text/plain": [
       "dict_keys(['_via_settings', '_via_img_metadata', '_via_attributes'])"
      ]
     },
     "execution_count": 56,
     "metadata": {},
     "output_type": "execute_result"
    }
   ],
   "source": [
    "data.keys()"
   ]
  },
  {
   "cell_type": "code",
   "execution_count": 57,
   "id": "cb93ae71",
   "metadata": {},
   "outputs": [],
   "source": [
    "coco = {\n",
    "    \"info\": {},\n",
    "    \"licenses\": [],\n",
    "    \"images\": [],\n",
    "    \"annotations\": [],\n",
    "    \"categories\": []\n",
    "\n",
    "}"
   ]
  },
  {
   "cell_type": "code",
   "execution_count": 58,
   "id": "fa9976ce",
   "metadata": {},
   "outputs": [
    {
     "data": {
      "text/plain": [
       "{'dog': 1, 'cat': 2}"
      ]
     },
     "execution_count": 58,
     "metadata": {},
     "output_type": "execute_result"
    }
   ],
   "source": [
    "categories = {}\n",
    "category_id = 1\n",
    "\n",
    "for image in data[\"_via_img_metadata\"].values():\n",
    "    for region in image[\"regions\"]:\n",
    "        for cls in region[\"region_attributes\"][\"class\"]:\n",
    "            if cls not in categories:\n",
    "                categories[cls] = category_id\n",
    "                category_id += 1\n",
    "\n",
    "for cls, id in categories.items():\n",
    "    coco[\"categories\"].append({\n",
    "        \"id\": id,\n",
    "        \"name\": cls,\n",
    "        \"supercategory\": \"class\"\n",
    "    })\n",
    "    \n",
    "categories"
   ]
  },
  {
   "cell_type": "code",
   "execution_count": 59,
   "id": "69775602",
   "metadata": {},
   "outputs": [
    {
     "data": {
      "text/plain": [
       "[{'id': 0,\n",
       "  'width': 365,\n",
       "  'height': 478,\n",
       "  'file_name': '1.jpeg45602',\n",
       "  'license': 1,\n",
       "  'date_captured': ''},\n",
       " {'id': 1,\n",
       "  'width': 150,\n",
       "  'height': 107,\n",
       "  'file_name': '2.jpeg4669',\n",
       "  'license': 1,\n",
       "  'date_captured': ''},\n",
       " {'id': 2,\n",
       "  'width': 99,\n",
       "  'height': 65,\n",
       "  'file_name': '2.jpeg4669',\n",
       "  'license': 1,\n",
       "  'date_captured': ''},\n",
       " {'id': 3,\n",
       "  'width': 186,\n",
       "  'height': 141,\n",
       "  'file_name': '3.jpeg6828',\n",
       "  'license': 1,\n",
       "  'date_captured': ''},\n",
       " {'id': 4,\n",
       "  'width': 830,\n",
       "  'height': 1442,\n",
       "  'file_name': '4.jpeg198685',\n",
       "  'license': 1,\n",
       "  'date_captured': ''},\n",
       " {'id': 5,\n",
       "  'width': 735,\n",
       "  'height': 738,\n",
       "  'file_name': '5.jpeg54509',\n",
       "  'license': 1,\n",
       "  'date_captured': ''},\n",
       " {'id': 6,\n",
       "  'width': 140,\n",
       "  'height': 190,\n",
       "  'file_name': '6.jpeg60092',\n",
       "  'license': 1,\n",
       "  'date_captured': ''},\n",
       " {'id': 7,\n",
       "  'width': 167,\n",
       "  'height': 115,\n",
       "  'file_name': '6.jpeg60092',\n",
       "  'license': 1,\n",
       "  'date_captured': ''},\n",
       " {'id': 8,\n",
       "  'width': 269,\n",
       "  'height': 234,\n",
       "  'file_name': '7.jpeg394361',\n",
       "  'license': 1,\n",
       "  'date_captured': ''},\n",
       " {'id': 9,\n",
       "  'width': 267,\n",
       "  'height': 162,\n",
       "  'file_name': '7.jpeg394361',\n",
       "  'license': 1,\n",
       "  'date_captured': ''}]"
      ]
     },
     "execution_count": 59,
     "metadata": {},
     "output_type": "execute_result"
    }
   ],
   "source": [
    "image_id = 0\n",
    "annotation_id = 0\n",
    "\n",
    "for image_name, image_data in data['_via_img_metadata'].items():\n",
    "    for region in image_data['regions']:\n",
    "        width = region['shape_attributes']['width']\n",
    "        height = region['shape_attributes']['height']\n",
    "        x = region['shape_attributes']['x']\n",
    "        y = region['shape_attributes']['y']\n",
    "        name = region['shape_attributes']['name']\n",
    "        \n",
    "        x1 = x\n",
    "        y1 = y\n",
    "        x2 = x1 + width\n",
    "        y2 = y1\n",
    "        x3 = x1\n",
    "        y3 = y1 + height\n",
    "        x4 = x1 + width\n",
    "        y4 = y1 + height\n",
    "        \n",
    "        segmentation = [x1, y1, x2, y2, x3, y3, x4, y4]\n",
    "        bbox = [x1, y1, width, height]\n",
    "        \n",
    "        image = {\n",
    "            'id' : image_id,\n",
    "            'width' : width,\n",
    "            'height' : height,\n",
    "            'file_name' : image_name,\n",
    "            'license' : 1,\n",
    "            'date_captured': ''\n",
    "        }\n",
    "        coco['images'].append(image)\n",
    "        \n",
    "        for cls, id in categories.items():\n",
    "            if cls in region['region_attributes']['class']:           \n",
    "                annotation = {\n",
    "                    'id' : annotation_id,\n",
    "                    'image_id' : image_id,\n",
    "                    'category_id' : id,\n",
    "                    'segmentation' : segmentation,\n",
    "                    'area' : width * height,\n",
    "                    'bbox' : bbox,\n",
    "                    'iscrowd' : 0\n",
    "                }\n",
    "                coco['annotations'].append(annotation)\n",
    "                annotation_id += 1\n",
    "                image_id += 1\n",
    "coco['images']"
   ]
  },
  {
   "cell_type": "code",
   "execution_count": null,
   "id": "2c5da9e7",
   "metadata": {},
   "outputs": [],
   "source": []
  },
  {
   "cell_type": "code",
   "execution_count": null,
   "id": "7cdb6a77",
   "metadata": {},
   "outputs": [],
   "source": []
  }
 ],
 "metadata": {
  "kernelspec": {
   "display_name": "Python 3 (ipykernel)",
   "language": "python",
   "name": "python3"
  },
  "language_info": {
   "codemirror_mode": {
    "name": "ipython",
    "version": 3
   },
   "file_extension": ".py",
   "mimetype": "text/x-python",
   "name": "python",
   "nbconvert_exporter": "python",
   "pygments_lexer": "ipython3",
   "version": "3.9.13"
  }
 },
 "nbformat": 4,
 "nbformat_minor": 5
}
